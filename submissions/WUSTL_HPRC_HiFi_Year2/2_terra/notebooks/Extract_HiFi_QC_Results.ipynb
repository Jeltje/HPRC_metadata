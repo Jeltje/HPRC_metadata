{
 "cells": [
  {
   "cell_type": "markdown",
   "metadata": {},
   "source": [
    "# Extract HiFi QC Data<a class=\"tocSkip\">\n",
    "\n",
    "**This notebook reads in data from NTSM and ReadStats WDLS (stored in data tables). This is part of the HiFi QC process.**\n",
    "\n",
    "**Below are the steps taken in this notebook:**\n",
    "1. Import Statements & Global Variable Definitions\n",
    "2. Define Functions\n",
    "3. Read In Sample Names\n",
    "4. Create Dataframe Of Files\n",
    "5. Write data frame to data tables"
   ]
  },
  {
   "cell_type": "markdown",
   "metadata": {},
   "source": [
    "# Import Statements & Global Variable Definitions"
   ]
  },
  {
   "cell_type": "markdown",
   "metadata": {},
   "source": [
    "## Installs"
   ]
  },
  {
   "cell_type": "code",
   "execution_count": 1,
   "metadata": {},
   "outputs": [],
   "source": [
    "%%capture\n",
    "%pip install gcsfs\n",
    "## capture CANNOT have comments above it\n",
    "## For reading CSVs stored in Google Cloud (without downloading them first)\n",
    "## May need to restart kernel after install "
   ]
  },
  {
   "cell_type": "code",
   "execution_count": 2,
   "metadata": {},
   "outputs": [],
   "source": [
    "%%capture\n",
    "%pip install --upgrade --no-cache-dir --force-reinstall terra-pandas\n",
    "%pip install --upgrade --no-cache-dir  --force-reinstall git+https://github.com/DataBiosphere/terra-notebook-utils\n",
    "## For reading/writing data tables into pandas data frames\n",
    "## May need to restart kernel after install "
   ]
  },
  {
   "cell_type": "markdown",
   "metadata": {},
   "source": [
    "## Import Statements"
   ]
  },
  {
   "cell_type": "code",
   "execution_count": 3,
   "metadata": {},
   "outputs": [],
   "source": [
    "from firecloud import fiss\n",
    "import pandas as pd \n",
    "import numpy as np\n",
    "import terra_pandas as tp\n",
    "import os                 \n",
    "import subprocess       \n",
    "import re                 \n",
    "import io\n",
    "import gcsfs\n",
    "\n",
    "from typing import Any, Callable, List, Optional\n",
    "from terra_notebook_utils import table, WORKSPACE_NAME, WORKSPACE_GOOGLE_PROJECT\n"
   ]
  },
  {
   "cell_type": "markdown",
   "metadata": {},
   "source": [
    "## Global Variable Declarations"
   ]
  },
  {
   "cell_type": "code",
   "execution_count": 4,
   "metadata": {},
   "outputs": [
    {
     "name": "stdout",
     "output_type": "stream",
     "text": [
      "Billing project: human-pangenome-ucsc\n",
      "Workspace: HPRC_WRANGLING_WUSTL_HPRC_HiFi_Year2\n",
      "Workspace storage bucket: gs://fc-089d894b-6682-450d-8031-f17732e5ece5/\n"
     ]
    }
   ],
   "source": [
    "# Get the Google billing project name and workspace name for current workspace\n",
    "PROJECT = os.environ['WORKSPACE_NAMESPACE']\n",
    "WORKSPACE =os.path.basename(os.path.dirname(os.getcwd()))\n",
    "bucket = os.environ['WORKSPACE_BUCKET'] + \"/\"\n",
    "\n",
    "\n",
    "# Verify that we've captured the environment variables\n",
    "print(\"Billing project: \" + PROJECT)\n",
    "print(\"Workspace: \" + WORKSPACE)\n",
    "print(\"Workspace storage bucket: \" + bucket)"
   ]
  },
  {
   "cell_type": "markdown",
   "metadata": {},
   "source": [
    "# Extract NTSM Data"
   ]
  },
  {
   "cell_type": "markdown",
   "metadata": {},
   "source": [
    "## Read in NTSM Data Table"
   ]
  },
  {
   "cell_type": "code",
   "execution_count": 5,
   "metadata": {},
   "outputs": [
    {
     "data": {
      "text/html": [
       "<div>\n",
       "<style scoped>\n",
       "    .dataframe tbody tr th:only-of-type {\n",
       "        vertical-align: middle;\n",
       "    }\n",
       "\n",
       "    .dataframe tbody tr th {\n",
       "        vertical-align: top;\n",
       "    }\n",
       "\n",
       "    .dataframe thead th {\n",
       "        text-align: right;\n",
       "    }\n",
       "</style>\n",
       "<table border=\"1\" class=\"dataframe\">\n",
       "  <thead>\n",
       "    <tr style=\"text-align: right;\">\n",
       "      <th></th>\n",
       "      <th>ntsv_count_2</th>\n",
       "      <th>read_2_fastq</th>\n",
       "      <th>read_1_fastq</th>\n",
       "      <th>sample</th>\n",
       "      <th>ntsv_count_1</th>\n",
       "      <th>hifi</th>\n",
       "      <th>ntsm_eval_out</th>\n",
       "    </tr>\n",
       "    <tr>\n",
       "      <th>ntsm_id</th>\n",
       "      <th></th>\n",
       "      <th></th>\n",
       "      <th></th>\n",
       "      <th></th>\n",
       "      <th></th>\n",
       "      <th></th>\n",
       "      <th></th>\n",
       "    </tr>\n",
       "  </thead>\n",
       "  <tbody>\n",
       "    <tr>\n",
       "      <th>0</th>\n",
       "      <td>gs://fc-089d894b-6682-450d-8031-f17732e5ece5/s...</td>\n",
       "      <td>gs://fc-47de7dae-e8e6-429c-b760-b4ba49136eee/1...</td>\n",
       "      <td>gs://fc-47de7dae-e8e6-429c-b760-b4ba49136eee/1...</td>\n",
       "      <td>HG00423</td>\n",
       "      <td>gs://fc-089d894b-6682-450d-8031-f17732e5ece5/s...</td>\n",
       "      <td>gs://fc-4310e737-a388-4a10-8c9e-babe06aaf0cf/s...</td>\n",
       "      <td>gs://fc-089d894b-6682-450d-8031-f17732e5ece5/s...</td>\n",
       "    </tr>\n",
       "    <tr>\n",
       "      <th>1</th>\n",
       "      <td>gs://fc-089d894b-6682-450d-8031-f17732e5ece5/s...</td>\n",
       "      <td>gs://fc-47de7dae-e8e6-429c-b760-b4ba49136eee/1...</td>\n",
       "      <td>gs://fc-47de7dae-e8e6-429c-b760-b4ba49136eee/1...</td>\n",
       "      <td>HG00423</td>\n",
       "      <td>gs://fc-089d894b-6682-450d-8031-f17732e5ece5/s...</td>\n",
       "      <td>gs://fc-4310e737-a388-4a10-8c9e-babe06aaf0cf/s...</td>\n",
       "      <td>gs://fc-089d894b-6682-450d-8031-f17732e5ece5/s...</td>\n",
       "    </tr>\n",
       "    <tr>\n",
       "      <th>10</th>\n",
       "      <td>gs://fc-089d894b-6682-450d-8031-f17732e5ece5/s...</td>\n",
       "      <td>gs://fc-47de7dae-e8e6-429c-b760-b4ba49136eee/1...</td>\n",
       "      <td>gs://fc-47de7dae-e8e6-429c-b760-b4ba49136eee/1...</td>\n",
       "      <td>HG00609</td>\n",
       "      <td>gs://fc-089d894b-6682-450d-8031-f17732e5ece5/s...</td>\n",
       "      <td>gs://fc-4310e737-a388-4a10-8c9e-babe06aaf0cf/s...</td>\n",
       "      <td>gs://fc-089d894b-6682-450d-8031-f17732e5ece5/s...</td>\n",
       "    </tr>\n",
       "    <tr>\n",
       "      <th>11</th>\n",
       "      <td>gs://fc-089d894b-6682-450d-8031-f17732e5ece5/s...</td>\n",
       "      <td>gs://fc-47de7dae-e8e6-429c-b760-b4ba49136eee/1...</td>\n",
       "      <td>gs://fc-47de7dae-e8e6-429c-b760-b4ba49136eee/1...</td>\n",
       "      <td>HG00609</td>\n",
       "      <td>gs://fc-089d894b-6682-450d-8031-f17732e5ece5/s...</td>\n",
       "      <td>gs://fc-4310e737-a388-4a10-8c9e-babe06aaf0cf/s...</td>\n",
       "      <td>gs://fc-089d894b-6682-450d-8031-f17732e5ece5/s...</td>\n",
       "    </tr>\n",
       "    <tr>\n",
       "      <th>12</th>\n",
       "      <td>gs://fc-089d894b-6682-450d-8031-f17732e5ece5/s...</td>\n",
       "      <td>gs://fc-47de7dae-e8e6-429c-b760-b4ba49136eee/1...</td>\n",
       "      <td>gs://fc-47de7dae-e8e6-429c-b760-b4ba49136eee/1...</td>\n",
       "      <td>HG00738</td>\n",
       "      <td>gs://fc-089d894b-6682-450d-8031-f17732e5ece5/s...</td>\n",
       "      <td>gs://fc-4310e737-a388-4a10-8c9e-babe06aaf0cf/s...</td>\n",
       "      <td>gs://fc-089d894b-6682-450d-8031-f17732e5ece5/s...</td>\n",
       "    </tr>\n",
       "  </tbody>\n",
       "</table>\n",
       "</div>"
      ],
      "text/plain": [
       "                                              ntsv_count_2  \\\n",
       "ntsm_id                                                      \n",
       "0        gs://fc-089d894b-6682-450d-8031-f17732e5ece5/s...   \n",
       "1        gs://fc-089d894b-6682-450d-8031-f17732e5ece5/s...   \n",
       "10       gs://fc-089d894b-6682-450d-8031-f17732e5ece5/s...   \n",
       "11       gs://fc-089d894b-6682-450d-8031-f17732e5ece5/s...   \n",
       "12       gs://fc-089d894b-6682-450d-8031-f17732e5ece5/s...   \n",
       "\n",
       "                                              read_2_fastq  \\\n",
       "ntsm_id                                                      \n",
       "0        gs://fc-47de7dae-e8e6-429c-b760-b4ba49136eee/1...   \n",
       "1        gs://fc-47de7dae-e8e6-429c-b760-b4ba49136eee/1...   \n",
       "10       gs://fc-47de7dae-e8e6-429c-b760-b4ba49136eee/1...   \n",
       "11       gs://fc-47de7dae-e8e6-429c-b760-b4ba49136eee/1...   \n",
       "12       gs://fc-47de7dae-e8e6-429c-b760-b4ba49136eee/1...   \n",
       "\n",
       "                                              read_1_fastq   sample  \\\n",
       "ntsm_id                                                               \n",
       "0        gs://fc-47de7dae-e8e6-429c-b760-b4ba49136eee/1...  HG00423   \n",
       "1        gs://fc-47de7dae-e8e6-429c-b760-b4ba49136eee/1...  HG00423   \n",
       "10       gs://fc-47de7dae-e8e6-429c-b760-b4ba49136eee/1...  HG00609   \n",
       "11       gs://fc-47de7dae-e8e6-429c-b760-b4ba49136eee/1...  HG00609   \n",
       "12       gs://fc-47de7dae-e8e6-429c-b760-b4ba49136eee/1...  HG00738   \n",
       "\n",
       "                                              ntsv_count_1  \\\n",
       "ntsm_id                                                      \n",
       "0        gs://fc-089d894b-6682-450d-8031-f17732e5ece5/s...   \n",
       "1        gs://fc-089d894b-6682-450d-8031-f17732e5ece5/s...   \n",
       "10       gs://fc-089d894b-6682-450d-8031-f17732e5ece5/s...   \n",
       "11       gs://fc-089d894b-6682-450d-8031-f17732e5ece5/s...   \n",
       "12       gs://fc-089d894b-6682-450d-8031-f17732e5ece5/s...   \n",
       "\n",
       "                                                      hifi  \\\n",
       "ntsm_id                                                      \n",
       "0        gs://fc-4310e737-a388-4a10-8c9e-babe06aaf0cf/s...   \n",
       "1        gs://fc-4310e737-a388-4a10-8c9e-babe06aaf0cf/s...   \n",
       "10       gs://fc-4310e737-a388-4a10-8c9e-babe06aaf0cf/s...   \n",
       "11       gs://fc-4310e737-a388-4a10-8c9e-babe06aaf0cf/s...   \n",
       "12       gs://fc-4310e737-a388-4a10-8c9e-babe06aaf0cf/s...   \n",
       "\n",
       "                                             ntsm_eval_out  \n",
       "ntsm_id                                                     \n",
       "0        gs://fc-089d894b-6682-450d-8031-f17732e5ece5/s...  \n",
       "1        gs://fc-089d894b-6682-450d-8031-f17732e5ece5/s...  \n",
       "10       gs://fc-089d894b-6682-450d-8031-f17732e5ece5/s...  \n",
       "11       gs://fc-089d894b-6682-450d-8031-f17732e5ece5/s...  \n",
       "12       gs://fc-089d894b-6682-450d-8031-f17732e5ece5/s...  "
      ]
     },
     "execution_count": 5,
     "metadata": {},
     "output_type": "execute_result"
    }
   ],
   "source": [
    "ntsm_df = tp.table_to_dataframe(\"ntsm\", workspace=WORKSPACE, workspace_namespace=PROJECT)\n",
    "\n",
    "ntsm_df.head()"
   ]
  },
  {
   "cell_type": "markdown",
   "metadata": {},
   "source": [
    "## Read NTSM Output & Write To DataFrame"
   ]
  },
  {
   "cell_type": "code",
   "execution_count": 44,
   "metadata": {},
   "outputs": [],
   "source": [
    "ntsm_df['ntsm_score'] = np.nan\n",
    "ntsm_df['result']     = np.nan\n",
    "\n",
    "for index, row in ntsm_df.iterrows():\n",
    "\n",
    "        sample_ntsm_fp = row['ntsm_eval_out']\n",
    "        sample_ntsm_df = pd.read_csv(sample_ntsm_fp, header=None, sep='\\t')\n",
    "\n",
    "        ntsm_df.loc[index,'ntsm_score'] = sample_ntsm_df.iloc[0][2]\n",
    "        ntsm_df.loc[index,'result'] = sample_ntsm_df[3].astype('str')[0]\n",
    "\n"
   ]
  },
  {
   "cell_type": "code",
   "execution_count": 42,
   "metadata": {
    "scrolled": true
   },
   "outputs": [
    {
     "data": {
      "text/plain": [
       "0"
      ]
     },
     "execution_count": 42,
     "metadata": {},
     "output_type": "execute_result"
    }
   ],
   "source": [
    "## How many rows don't match??? (Should be 0)\n",
    "sum(ntsm_df['result'] != 'Similar')"
   ]
  },
  {
   "cell_type": "markdown",
   "metadata": {},
   "source": [
    "# Extract ReadStats Data"
   ]
  },
  {
   "cell_type": "markdown",
   "metadata": {},
   "source": [
    "## Read in ReadStats Data Table"
   ]
  },
  {
   "cell_type": "code",
   "execution_count": 43,
   "metadata": {},
   "outputs": [
    {
     "data": {
      "text/html": [
       "<div>\n",
       "<style scoped>\n",
       "    .dataframe tbody tr th:only-of-type {\n",
       "        vertical-align: middle;\n",
       "    }\n",
       "\n",
       "    .dataframe tbody tr th {\n",
       "        vertical-align: top;\n",
       "    }\n",
       "\n",
       "    .dataframe thead th {\n",
       "        text-align: right;\n",
       "    }\n",
       "</style>\n",
       "<table border=\"1\" class=\"dataframe\">\n",
       "  <thead>\n",
       "    <tr style=\"text-align: right;\">\n",
       "      <th></th>\n",
       "      <th>ReadStatsTarball</th>\n",
       "      <th>hifi</th>\n",
       "      <th>ReadStatsReport</th>\n",
       "      <th>sample</th>\n",
       "    </tr>\n",
       "    <tr>\n",
       "      <th>readstats_id</th>\n",
       "      <th></th>\n",
       "      <th></th>\n",
       "      <th></th>\n",
       "      <th></th>\n",
       "    </tr>\n",
       "  </thead>\n",
       "  <tbody>\n",
       "    <tr>\n",
       "      <th>0</th>\n",
       "      <td>gs://fc-089d894b-6682-450d-8031-f17732e5ece5/s...</td>\n",
       "      <td>gs://fc-4310e737-a388-4a10-8c9e-babe06aaf0cf/s...</td>\n",
       "      <td>gs://fc-089d894b-6682-450d-8031-f17732e5ece5/s...</td>\n",
       "      <td>HG00423</td>\n",
       "    </tr>\n",
       "    <tr>\n",
       "      <th>1</th>\n",
       "      <td>gs://fc-089d894b-6682-450d-8031-f17732e5ece5/s...</td>\n",
       "      <td>gs://fc-4310e737-a388-4a10-8c9e-babe06aaf0cf/s...</td>\n",
       "      <td>gs://fc-089d894b-6682-450d-8031-f17732e5ece5/s...</td>\n",
       "      <td>HG00423</td>\n",
       "    </tr>\n",
       "    <tr>\n",
       "      <th>10</th>\n",
       "      <td>gs://fc-089d894b-6682-450d-8031-f17732e5ece5/s...</td>\n",
       "      <td>gs://fc-4310e737-a388-4a10-8c9e-babe06aaf0cf/s...</td>\n",
       "      <td>gs://fc-089d894b-6682-450d-8031-f17732e5ece5/s...</td>\n",
       "      <td>HG00609</td>\n",
       "    </tr>\n",
       "    <tr>\n",
       "      <th>11</th>\n",
       "      <td>gs://fc-089d894b-6682-450d-8031-f17732e5ece5/s...</td>\n",
       "      <td>gs://fc-4310e737-a388-4a10-8c9e-babe06aaf0cf/s...</td>\n",
       "      <td>gs://fc-089d894b-6682-450d-8031-f17732e5ece5/s...</td>\n",
       "      <td>HG00609</td>\n",
       "    </tr>\n",
       "    <tr>\n",
       "      <th>12</th>\n",
       "      <td>gs://fc-089d894b-6682-450d-8031-f17732e5ece5/s...</td>\n",
       "      <td>gs://fc-4310e737-a388-4a10-8c9e-babe06aaf0cf/s...</td>\n",
       "      <td>gs://fc-089d894b-6682-450d-8031-f17732e5ece5/s...</td>\n",
       "      <td>HG00738</td>\n",
       "    </tr>\n",
       "  </tbody>\n",
       "</table>\n",
       "</div>"
      ],
      "text/plain": [
       "                                               ReadStatsTarball  \\\n",
       "readstats_id                                                      \n",
       "0             gs://fc-089d894b-6682-450d-8031-f17732e5ece5/s...   \n",
       "1             gs://fc-089d894b-6682-450d-8031-f17732e5ece5/s...   \n",
       "10            gs://fc-089d894b-6682-450d-8031-f17732e5ece5/s...   \n",
       "11            gs://fc-089d894b-6682-450d-8031-f17732e5ece5/s...   \n",
       "12            gs://fc-089d894b-6682-450d-8031-f17732e5ece5/s...   \n",
       "\n",
       "                                                           hifi  \\\n",
       "readstats_id                                                      \n",
       "0             gs://fc-4310e737-a388-4a10-8c9e-babe06aaf0cf/s...   \n",
       "1             gs://fc-4310e737-a388-4a10-8c9e-babe06aaf0cf/s...   \n",
       "10            gs://fc-4310e737-a388-4a10-8c9e-babe06aaf0cf/s...   \n",
       "11            gs://fc-4310e737-a388-4a10-8c9e-babe06aaf0cf/s...   \n",
       "12            gs://fc-4310e737-a388-4a10-8c9e-babe06aaf0cf/s...   \n",
       "\n",
       "                                                ReadStatsReport   sample  \n",
       "readstats_id                                                              \n",
       "0             gs://fc-089d894b-6682-450d-8031-f17732e5ece5/s...  HG00423  \n",
       "1             gs://fc-089d894b-6682-450d-8031-f17732e5ece5/s...  HG00423  \n",
       "10            gs://fc-089d894b-6682-450d-8031-f17732e5ece5/s...  HG00609  \n",
       "11            gs://fc-089d894b-6682-450d-8031-f17732e5ece5/s...  HG00609  \n",
       "12            gs://fc-089d894b-6682-450d-8031-f17732e5ece5/s...  HG00738  "
      ]
     },
     "execution_count": 43,
     "metadata": {},
     "output_type": "execute_result"
    }
   ],
   "source": [
    "readstats_df = tp.table_to_dataframe(\"readstats\", workspace=WORKSPACE, workspace_namespace=PROJECT)\n",
    "\n",
    "readstats_df.head()"
   ]
  },
  {
   "cell_type": "markdown",
   "metadata": {},
   "source": [
    "## Read ReadStats Output & Write To DataFrame"
   ]
  },
  {
   "cell_type": "code",
   "execution_count": 51,
   "metadata": {},
   "outputs": [],
   "source": [
    "readstats_df['output']   = np.nan\n",
    "\n",
    "for index, row in readstats_df.iterrows():\n",
    "\n",
    "        sample_readstats_fp = row['ReadStatsReport']\n",
    "        #sample_readstats_fn = os.path.basename(sample_readstats_fp)\n",
    "\n",
    "        #! gsutil cp {sample_readstats_fp} .\n",
    "        \n",
    "        sample_readstats_df = pd.read_csv(sample_readstats_fp, header=None, sep='\\t')\n",
    "\n",
    "        ## Just look at sample-level metrics\n",
    "        sample_readstats_df = sample_readstats_df[sample_readstats_df[0]=='sample.fastq']\n",
    "\n",
    "        ## Get rid of extra row\n",
    "        sample_readstats_df = sample_readstats_df.iloc[1: , :]\n",
    "\n",
    "\n",
    "        sample_coverage = sample_readstats_df[sample_readstats_df[1] == 'total_Gbp'][2]\n",
    "        readstats_df.loc[index,'output'] = float(sample_coverage.values[0])\n",
    "\n",
    "        \n",
    "readstats_df['coverage'] = readstats_df['output']/3.1"
   ]
  },
  {
   "cell_type": "code",
   "execution_count": 56,
   "metadata": {},
   "outputs": [
    {
     "data": {
      "text/plain": [
       "25"
      ]
     },
     "execution_count": 56,
     "metadata": {},
     "output_type": "execute_result"
    }
   ],
   "source": [
    "readstats_df.shape\n",
    "len(readstats_df['sample'].unique())"
   ]
  },
  {
   "cell_type": "code",
   "execution_count": 55,
   "metadata": {},
   "outputs": [
    {
     "name": "stdout",
     "output_type": "stream",
     "text": [
      "HG00609 34.46\n",
      "HG00738 34.06\n",
      "HG01099 32.71\n",
      "HG01255 32.52\n",
      "HG01496 33.37\n",
      "HG01934 32.09\n",
      "HG01943 31.76\n",
      "HG01981 34.0\n",
      "HG01993 34.08\n",
      "HG02280 32.41\n",
      "HG02523 31.58\n",
      "HG02602 32.55\n",
      "HG02615 31.93\n",
      "HG02698 31.44\n",
      "HG03710 32.76\n",
      "HG03831 30.86\n"
     ]
    }
   ],
   "source": [
    "# sum coverage by sample\n",
    "for sample in (readstats_df['sample'].unique()):\n",
    "    total_coverage = readstats_df.loc[readstats_df['sample'] == sample, 'coverage'].sum()\n",
    "    if total_coverage < 35:\n",
    "        print(sample, round(total_coverage,2))\n",
    "# this should output nothing but gets 16 samples"
   ]
  },
  {
   "cell_type": "markdown",
   "metadata": {},
   "source": [
    "# TODO: put these in a .csv"
   ]
  },
  {
   "cell_type": "code",
   "execution_count": null,
   "metadata": {},
   "outputs": [],
   "source": []
  },
  {
   "cell_type": "code",
   "execution_count": null,
   "metadata": {},
   "outputs": [],
   "source": []
  }
 ],
 "metadata": {
  "kernelspec": {
   "display_name": "Python 3",
   "language": "python",
   "name": "python3"
  },
  "language_info": {
   "codemirror_mode": {
    "name": "ipython",
    "version": 3
   },
   "file_extension": ".py",
   "mimetype": "text/x-python",
   "name": "python",
   "nbconvert_exporter": "python",
   "pygments_lexer": "ipython3",
   "version": "3.7.12"
  },
  "toc": {
   "base_numbering": 1,
   "nav_menu": {},
   "number_sections": true,
   "sideBar": true,
   "skip_h1_title": false,
   "title_cell": "Table of Contents",
   "title_sidebar": "Contents",
   "toc_cell": false,
   "toc_position": {},
   "toc_section_display": true,
   "toc_window_display": false
  }
 },
 "nbformat": 4,
 "nbformat_minor": 2
}
