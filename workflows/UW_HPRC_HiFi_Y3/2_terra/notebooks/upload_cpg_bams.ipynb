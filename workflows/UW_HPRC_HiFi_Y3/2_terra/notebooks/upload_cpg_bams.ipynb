{
 "cells": [
  {
   "cell_type": "markdown",
   "metadata": {},
   "source": [
    "# Upload CpG Bams<a class=\"tocSkip\">\n",
    "\n",
    "We had to call CpG methylation w/ Primrose, so we need to upload the resultant files to the original submission."
   ]
  },
  {
   "cell_type": "markdown",
   "metadata": {},
   "source": [
    "# Import Statements & Global Variable Definitions"
   ]
  },
  {
   "cell_type": "code",
   "execution_count": 2,
   "metadata": {},
   "outputs": [
    {
     "name": "stdout",
     "output_type": "stream",
     "text": [
      "Requirement already satisfied: pyOpenSSL in /home/jupyter/.local/lib/python3.7/site-packages (23.0.0)\n",
      "Requirement already satisfied: cryptography<40,>=38.0.0 in /home/jupyter/.local/lib/python3.7/site-packages (from pyOpenSSL) (39.0.2)\n",
      "Requirement already satisfied: cffi>=1.12 in /home/jupyter/.local/lib/python3.7/site-packages (from cryptography<40,>=38.0.0->pyOpenSSL) (1.15.1)\n",
      "Requirement already satisfied: pycparser in /home/jupyter/.local/lib/python3.7/site-packages (from cffi>=1.12->cryptography<40,>=38.0.0->pyOpenSSL) (2.21)\n",
      "\n",
      "\u001b[1m[\u001b[0m\u001b[34;49mnotice\u001b[0m\u001b[1;39;49m]\u001b[0m\u001b[39;49m A new release of pip available: \u001b[0m\u001b[31;49m22.3.1\u001b[0m\u001b[39;49m -> \u001b[0m\u001b[32;49m23.0.1\u001b[0m\n",
      "\u001b[1m[\u001b[0m\u001b[34;49mnotice\u001b[0m\u001b[1;39;49m]\u001b[0m\u001b[39;49m To update, run: \u001b[0m\u001b[32;49mpip install --upgrade pip\u001b[0m\n",
      "Note: you may need to restart the kernel to use updated packages.\n"
     ]
    }
   ],
   "source": [
    " %pip install pyOpenSSL --upgrade"
   ]
  },
  {
   "cell_type": "code",
   "execution_count": 3,
   "metadata": {},
   "outputs": [
    {
     "name": "stdout",
     "output_type": "stream",
     "text": [
      "Collecting git+https://github.com/DataBiosphere/ssds\n",
      "  Cloning https://github.com/DataBiosphere/ssds to /tmp/pip-req-build-jg00nmwk\n",
      "  Running command git clone --filter=blob:none --quiet https://github.com/DataBiosphere/ssds /tmp/pip-req-build-jg00nmwk\n",
      "  Resolved https://github.com/DataBiosphere/ssds to commit c3083f7dea73729ce90faa2fbd2b5f27fc6f2d01\n",
      "  Preparing metadata (setup.py) ... \u001b[?25ldone\n",
      "\u001b[?25hRequirement already satisfied: boto3 in /home/jupyter/.local/lib/python3.7/site-packages (from ssds==0.0.5) (1.26.84)\n",
      "Requirement already satisfied: google-crc32c>=1.0.0 in /home/jupyter/.local/lib/python3.7/site-packages (from ssds==0.0.5) (1.5.0)\n",
      "Requirement already satisfied: google-cloud-storage>=1.31.2 in /home/jupyter/.local/lib/python3.7/site-packages (from ssds==0.0.5) (1.44.0)\n",
      "Requirement already satisfied: gs-chunked-io<0.6,>=0.5.2 in /home/jupyter/.local/lib/python3.7/site-packages (from ssds==0.0.5) (0.5.2)\n",
      "Requirement already satisfied: cli-builder<0.2,>=0.1.4 in /home/jupyter/.local/lib/python3.7/site-packages (from ssds==0.0.5) (0.1.5)\n",
      "Requirement already satisfied: requests in /home/jupyter/.local/lib/python3.7/site-packages (from ssds==0.0.5) (2.28.2)\n",
      "Requirement already satisfied: protobuf in /home/jupyter/.local/lib/python3.7/site-packages (from google-cloud-storage>=1.31.2->ssds==0.0.5) (4.22.0)\n",
      "Requirement already satisfied: google-api-core<3.0dev,>=1.29.0 in /home/jupyter/.local/lib/python3.7/site-packages (from google-cloud-storage>=1.31.2->ssds==0.0.5) (2.11.0)\n",
      "Requirement already satisfied: google-auth<3.0dev,>=1.25.0 in /home/jupyter/.local/lib/python3.7/site-packages (from google-cloud-storage>=1.31.2->ssds==0.0.5) (2.16.2)\n",
      "Requirement already satisfied: google-resumable-media<3.0dev,>=1.3.0 in /home/jupyter/.local/lib/python3.7/site-packages (from google-cloud-storage>=1.31.2->ssds==0.0.5) (2.4.1)\n",
      "Requirement already satisfied: google-cloud-core<3.0dev,>=1.6.0 in /home/jupyter/.local/lib/python3.7/site-packages (from google-cloud-storage>=1.31.2->ssds==0.0.5) (2.3.2)\n",
      "Requirement already satisfied: six in /home/jupyter/.local/lib/python3.7/site-packages (from google-cloud-storage>=1.31.2->ssds==0.0.5) (1.16.0)\n",
      "Requirement already satisfied: charset-normalizer<4,>=2 in /home/jupyter/.local/lib/python3.7/site-packages (from requests->ssds==0.0.5) (3.0.1)\n",
      "Requirement already satisfied: certifi>=2017.4.17 in /home/jupyter/.local/lib/python3.7/site-packages (from requests->ssds==0.0.5) (2022.12.7)\n",
      "Requirement already satisfied: idna<4,>=2.5 in /home/jupyter/.local/lib/python3.7/site-packages (from requests->ssds==0.0.5) (3.4)\n",
      "Requirement already satisfied: urllib3<1.27,>=1.21.1 in /home/jupyter/.local/lib/python3.7/site-packages (from requests->ssds==0.0.5) (1.26.14)\n",
      "Requirement already satisfied: botocore<1.30.0,>=1.29.84 in /home/jupyter/.local/lib/python3.7/site-packages (from boto3->ssds==0.0.5) (1.29.84)\n",
      "Requirement already satisfied: jmespath<2.0.0,>=0.7.1 in /home/jupyter/.local/lib/python3.7/site-packages (from boto3->ssds==0.0.5) (0.10.0)\n",
      "Requirement already satisfied: s3transfer<0.7.0,>=0.6.0 in /home/jupyter/.local/lib/python3.7/site-packages (from boto3->ssds==0.0.5) (0.6.0)\n",
      "Requirement already satisfied: python-dateutil<3.0.0,>=2.1 in /opt/conda/lib/python3.7/site-packages (from botocore<1.30.0,>=1.29.84->boto3->ssds==0.0.5) (2.8.2)\n",
      "Requirement already satisfied: googleapis-common-protos<2.0dev,>=1.56.2 in /home/jupyter/.local/lib/python3.7/site-packages (from google-api-core<3.0dev,>=1.29.0->google-cloud-storage>=1.31.2->ssds==0.0.5) (1.58.0)\n",
      "Requirement already satisfied: pyasn1-modules>=0.2.1 in /home/jupyter/.local/lib/python3.7/site-packages (from google-auth<3.0dev,>=1.25.0->google-cloud-storage>=1.31.2->ssds==0.0.5) (0.2.8)\n",
      "Requirement already satisfied: cachetools<6.0,>=2.0.0 in /home/jupyter/.local/lib/python3.7/site-packages (from google-auth<3.0dev,>=1.25.0->google-cloud-storage>=1.31.2->ssds==0.0.5) (5.3.0)\n",
      "Requirement already satisfied: rsa<5,>=3.1.4 in /home/jupyter/.local/lib/python3.7/site-packages (from google-auth<3.0dev,>=1.25.0->google-cloud-storage>=1.31.2->ssds==0.0.5) (4.9)\n",
      "Requirement already satisfied: pyasn1<0.5.0,>=0.4.6 in /home/jupyter/.local/lib/python3.7/site-packages (from pyasn1-modules>=0.2.1->google-auth<3.0dev,>=1.25.0->google-cloud-storage>=1.31.2->ssds==0.0.5) (0.4.8)\n",
      "\n",
      "\u001b[1m[\u001b[0m\u001b[34;49mnotice\u001b[0m\u001b[1;39;49m]\u001b[0m\u001b[39;49m A new release of pip available: \u001b[0m\u001b[31;49m22.3.1\u001b[0m\u001b[39;49m -> \u001b[0m\u001b[32;49m23.0.1\u001b[0m\n",
      "\u001b[1m[\u001b[0m\u001b[34;49mnotice\u001b[0m\u001b[1;39;49m]\u001b[0m\u001b[39;49m To update, run: \u001b[0m\u001b[32;49mpip install --upgrade pip\u001b[0m\n",
      "Note: you may need to restart the kernel to use updated packages.\n"
     ]
    }
   ],
   "source": [
    " %pip install --upgrade --no-cache-dir git+https://github.com/DataBiosphere/ssds"
   ]
  },
  {
   "cell_type": "code",
   "execution_count": 4,
   "metadata": {},
   "outputs": [],
   "source": [
    "%%capture\n",
    "%pip install --upgrade --no-cache-dir --force-reinstall terra-pandas\n",
    "%pip install --upgrade --no-cache-dir  --force-reinstall git+https://github.com/DataBiosphere/terra-notebook-utils"
   ]
  },
  {
   "cell_type": "code",
   "execution_count": 9,
   "metadata": {},
   "outputs": [],
   "source": [
    "import terra_notebook_utils as tnu\n",
    "import terra_pandas as tp\n",
    "import pandas as pd\n",
    "import os\n",
    "import subprocess\n",
    "from ssds import deployment"
   ]
  },
  {
   "cell_type": "code",
   "execution_count": 11,
   "metadata": {},
   "outputs": [],
   "source": [
    "mypath='gs://fc-4310e737-a388-4a10-8c9e-babe06aaf0cf/submissions/5c68b972-8534-402f-9861-11c93558765f--UW_HPRC_HiFi_Y3/HG00639/5mc_bam/'\n",
    "file_list_byt   = subprocess.run(['gsutil', '-u', 'human-pangenome-ucsc', 'ls', '-rlh', mypath], \n",
    "                                     stdout=subprocess.PIPE)"
   ]
  },
  {
   "cell_type": "markdown",
   "metadata": {},
   "source": [
    "## Global Variable Definitions"
   ]
  },
  {
   "cell_type": "code",
   "execution_count": 7,
   "metadata": {},
   "outputs": [],
   "source": [
    "## submission_id is generated by uuid (gives unique ID to each submission)\n",
    "submission_id       = \"5c68b972-8534-402f-9861-11c93558765f\"\n",
    "\n",
    "## submission_name lends some recognizability to the submission\n",
    "submission_name     = \"UW_HPRC_HiFi_Y3\"\n",
    "\n",
    "ds = deployment._GSStaging(google_billing_project=\"human-pangenome-ucsc\")   # _GSStaging()\n",
    "destination_bucket = \"gs://fc-4310e737-a388-4a10-8c9e-babe06aaf0cf\" # _GSStaging()\n",
    "\n",
    "## Where the submission files will actually land (we may add one directory level later)\n",
    "dest_full_path      = os.path.join(destination_bucket, \"submissions\", submission_id + \"--\" + submission_name)"
   ]
  },
  {
   "cell_type": "code",
   "execution_count": 27,
   "metadata": {},
   "outputs": [
    {
     "name": "stdout",
     "output_type": "stream",
     "text": [
      "['107.99', 'GiB', '2023-03-06T03:31:54Z', 'gs://fc-4310e737-a388-4a10-8c9e-babe06aaf0cf/submissions/5c68b972-8534-402f-9861-11c93558765f--UW_HPRC_HiFi_Y3/HG00639/5mc_bam/m54329U_211222_104516-bc1010.5mc.hifi_reads.bam']\n",
      "['115.62', 'GiB', '2023-03-06T03:58:18Z', 'gs://fc-4310e737-a388-4a10-8c9e-babe06aaf0cf/submissions/5c68b972-8534-402f-9861-11c93558765f--UW_HPRC_HiFi_Y3/HG00639/5mc_bam/m54329U_211230_014258-bc1010.5mc.hifi_reads.bam']\n",
      "['131.78', 'GiB', '2023-03-06T04:28:21Z', 'gs://fc-4310e737-a388-4a10-8c9e-babe06aaf0cf/submissions/5c68b972-8534-402f-9861-11c93558765f--UW_HPRC_HiFi_Y3/HG00639/5mc_bam/m54329U_211231_123903-bc1010.5mc.hifi_reads.bam']\n",
      "['20.07', 'GiB', '2023-03-06T04:33:34Z', 'gs://fc-4310e737-a388-4a10-8c9e-babe06aaf0cf/submissions/5c68b972-8534-402f-9861-11c93558765f--UW_HPRC_HiFi_Y3/HG00639/5mc_bam/m64076_220216_013707-bc1010.5mc.hifi_reads.bam']\n"
     ]
    }
   ],
   "source": [
    "# dest directory files and their sizes\n",
    "file_list_str   = file_list_byt.stdout.decode('utf-8')\n",
    "file_list       = file_list_str.split('\\n')\n",
    "file_list = [ elem for elem in file_list if elem.endswith('5mc.hifi_reads.bam')]\n",
    "file_dict_dest = dict()\n",
    "for elem in file_list:\n",
    "    fields = elem.split(' ')\n",
    "    fields = [ elem for elem in fields if elem != '']\n",
    "    file_dict_dest[os.path.basename(bampath)] = size"
   ]
  },
  {
   "cell_type": "markdown",
   "metadata": {},
   "source": [
    "## Set Environment Variables"
   ]
  },
  {
   "cell_type": "code",
   "execution_count": 6,
   "metadata": {},
   "outputs": [
    {
     "name": "stdout",
     "output_type": "stream",
     "text": [
      "Billing project: human-pangenome-ucsc\n",
      "Workspace: HPRC_WRANGLING_UW_HPRC_HiFi_Y3\n",
      "Workspace storage bucket: gs://fc-c2424fa0-8b70-4a0a-bd92-598d9fa71260/\n"
     ]
    }
   ],
   "source": [
    "# Get the Google billing project name and workspace name\n",
    "PROJECT = os.environ['WORKSPACE_NAMESPACE']\n",
    "WORKSPACE =os.path.basename(os.path.dirname(os.getcwd()))\n",
    "bucket = os.environ['WORKSPACE_BUCKET'] + \"/\"\n",
    "\n",
    "# Verify that we've captured the environment variables\n",
    "print(\"Billing project: \" + PROJECT)\n",
    "print(\"Workspace: \" + WORKSPACE)\n",
    "print(\"Workspace storage bucket: \" + bucket)"
   ]
  },
  {
   "cell_type": "markdown",
   "metadata": {},
   "source": [
    "# Upload CpG HiFi Bams\n",
    "\n",
    "## Read In Data Table"
   ]
  },
  {
   "cell_type": "code",
   "execution_count": 7,
   "metadata": {},
   "outputs": [
    {
     "data": {
      "text/html": [
       "<div>\n",
       "<style scoped>\n",
       "    .dataframe tbody tr th:only-of-type {\n",
       "        vertical-align: middle;\n",
       "    }\n",
       "\n",
       "    .dataframe tbody tr th {\n",
       "        vertical-align: top;\n",
       "    }\n",
       "\n",
       "    .dataframe thead th {\n",
       "        text-align: right;\n",
       "    }\n",
       "</style>\n",
       "<table border=\"1\" class=\"dataframe\">\n",
       "  <thead>\n",
       "    <tr style=\"text-align: right;\">\n",
       "      <th></th>\n",
       "      <th>ReadStatsTarball</th>\n",
       "      <th>hifi</th>\n",
       "      <th>ReadStatsReport</th>\n",
       "      <th>output_5mc_bam</th>\n",
       "      <th>sample</th>\n",
       "    </tr>\n",
       "    <tr>\n",
       "      <th>readstats_id</th>\n",
       "      <th></th>\n",
       "      <th></th>\n",
       "      <th></th>\n",
       "      <th></th>\n",
       "      <th></th>\n",
       "    </tr>\n",
       "  </thead>\n",
       "  <tbody>\n",
       "    <tr>\n",
       "      <th>0</th>\n",
       "      <td>gs://fc-c2424fa0-8b70-4a0a-bd92-598d9fa71260/s...</td>\n",
       "      <td>gs://fc-4310e737-a388-4a10-8c9e-babe06aaf0cf/s...</td>\n",
       "      <td>gs://fc-c2424fa0-8b70-4a0a-bd92-598d9fa71260/s...</td>\n",
       "      <td>[gs://fc-c2424fa0-8b70-4a0a-bd92-598d9fa71260/...</td>\n",
       "      <td>HG00099</td>\n",
       "    </tr>\n",
       "    <tr>\n",
       "      <th>1</th>\n",
       "      <td>gs://fc-c2424fa0-8b70-4a0a-bd92-598d9fa71260/s...</td>\n",
       "      <td>gs://fc-4310e737-a388-4a10-8c9e-babe06aaf0cf/s...</td>\n",
       "      <td>gs://fc-c2424fa0-8b70-4a0a-bd92-598d9fa71260/s...</td>\n",
       "      <td>[gs://fc-c2424fa0-8b70-4a0a-bd92-598d9fa71260/...</td>\n",
       "      <td>HG00099</td>\n",
       "    </tr>\n",
       "    <tr>\n",
       "      <th>10</th>\n",
       "      <td>gs://fc-c2424fa0-8b70-4a0a-bd92-598d9fa71260/s...</td>\n",
       "      <td>gs://fc-4310e737-a388-4a10-8c9e-babe06aaf0cf/s...</td>\n",
       "      <td>gs://fc-c2424fa0-8b70-4a0a-bd92-598d9fa71260/s...</td>\n",
       "      <td>[gs://fc-c2424fa0-8b70-4a0a-bd92-598d9fa71260/...</td>\n",
       "      <td>HG00639</td>\n",
       "    </tr>\n",
       "    <tr>\n",
       "      <th>11</th>\n",
       "      <td>gs://fc-c2424fa0-8b70-4a0a-bd92-598d9fa71260/s...</td>\n",
       "      <td>gs://fc-4310e737-a388-4a10-8c9e-babe06aaf0cf/s...</td>\n",
       "      <td>gs://fc-c2424fa0-8b70-4a0a-bd92-598d9fa71260/s...</td>\n",
       "      <td>[gs://fc-c2424fa0-8b70-4a0a-bd92-598d9fa71260/...</td>\n",
       "      <td>HG00639</td>\n",
       "    </tr>\n",
       "    <tr>\n",
       "      <th>12</th>\n",
       "      <td>gs://fc-c2424fa0-8b70-4a0a-bd92-598d9fa71260/s...</td>\n",
       "      <td>gs://fc-4310e737-a388-4a10-8c9e-babe06aaf0cf/s...</td>\n",
       "      <td>gs://fc-c2424fa0-8b70-4a0a-bd92-598d9fa71260/s...</td>\n",
       "      <td>[gs://fc-c2424fa0-8b70-4a0a-bd92-598d9fa71260/...</td>\n",
       "      <td>HG00639</td>\n",
       "    </tr>\n",
       "  </tbody>\n",
       "</table>\n",
       "</div>"
      ],
      "text/plain": [
       "                                               ReadStatsTarball  \\\n",
       "readstats_id                                                      \n",
       "0             gs://fc-c2424fa0-8b70-4a0a-bd92-598d9fa71260/s...   \n",
       "1             gs://fc-c2424fa0-8b70-4a0a-bd92-598d9fa71260/s...   \n",
       "10            gs://fc-c2424fa0-8b70-4a0a-bd92-598d9fa71260/s...   \n",
       "11            gs://fc-c2424fa0-8b70-4a0a-bd92-598d9fa71260/s...   \n",
       "12            gs://fc-c2424fa0-8b70-4a0a-bd92-598d9fa71260/s...   \n",
       "\n",
       "                                                           hifi  \\\n",
       "readstats_id                                                      \n",
       "0             gs://fc-4310e737-a388-4a10-8c9e-babe06aaf0cf/s...   \n",
       "1             gs://fc-4310e737-a388-4a10-8c9e-babe06aaf0cf/s...   \n",
       "10            gs://fc-4310e737-a388-4a10-8c9e-babe06aaf0cf/s...   \n",
       "11            gs://fc-4310e737-a388-4a10-8c9e-babe06aaf0cf/s...   \n",
       "12            gs://fc-4310e737-a388-4a10-8c9e-babe06aaf0cf/s...   \n",
       "\n",
       "                                                ReadStatsReport  \\\n",
       "readstats_id                                                      \n",
       "0             gs://fc-c2424fa0-8b70-4a0a-bd92-598d9fa71260/s...   \n",
       "1             gs://fc-c2424fa0-8b70-4a0a-bd92-598d9fa71260/s...   \n",
       "10            gs://fc-c2424fa0-8b70-4a0a-bd92-598d9fa71260/s...   \n",
       "11            gs://fc-c2424fa0-8b70-4a0a-bd92-598d9fa71260/s...   \n",
       "12            gs://fc-c2424fa0-8b70-4a0a-bd92-598d9fa71260/s...   \n",
       "\n",
       "                                                 output_5mc_bam   sample  \n",
       "readstats_id                                                              \n",
       "0             [gs://fc-c2424fa0-8b70-4a0a-bd92-598d9fa71260/...  HG00099  \n",
       "1             [gs://fc-c2424fa0-8b70-4a0a-bd92-598d9fa71260/...  HG00099  \n",
       "10            [gs://fc-c2424fa0-8b70-4a0a-bd92-598d9fa71260/...  HG00639  \n",
       "11            [gs://fc-c2424fa0-8b70-4a0a-bd92-598d9fa71260/...  HG00639  \n",
       "12            [gs://fc-c2424fa0-8b70-4a0a-bd92-598d9fa71260/...  HG00639  "
      ]
     },
     "execution_count": 7,
     "metadata": {},
     "output_type": "execute_result"
    }
   ],
   "source": [
    "comp_df = tp.table_to_dataframe(\"readstats\", \n",
    "                                     workspace=WORKSPACE, \n",
    "                                     workspace_namespace='human-pangenome-ucsc')\n",
    "\n",
    "comp_df.head()"
   ]
  },
  {
   "cell_type": "code",
   "execution_count": 27,
   "metadata": {},
   "outputs": [
    {
     "name": "stdout",
     "output_type": "stream",
     "text": [
      "['107.99', 'GiB', '2023-03-06T03:31:54Z', 'gs://fc-4310e737-a388-4a10-8c9e-babe06aaf0cf/submissions/5c68b972-8534-402f-9861-11c93558765f--UW_HPRC_HiFi_Y3/HG00639/5mc_bam/m54329U_211222_104516-bc1010.5mc.hifi_reads.bam']\n",
      "['115.62', 'GiB', '2023-03-06T03:58:18Z', 'gs://fc-4310e737-a388-4a10-8c9e-babe06aaf0cf/submissions/5c68b972-8534-402f-9861-11c93558765f--UW_HPRC_HiFi_Y3/HG00639/5mc_bam/m54329U_211230_014258-bc1010.5mc.hifi_reads.bam']\n",
      "['131.78', 'GiB', '2023-03-06T04:28:21Z', 'gs://fc-4310e737-a388-4a10-8c9e-babe06aaf0cf/submissions/5c68b972-8534-402f-9861-11c93558765f--UW_HPRC_HiFi_Y3/HG00639/5mc_bam/m54329U_211231_123903-bc1010.5mc.hifi_reads.bam']\n",
      "['20.07', 'GiB', '2023-03-06T04:33:34Z', 'gs://fc-4310e737-a388-4a10-8c9e-babe06aaf0cf/submissions/5c68b972-8534-402f-9861-11c93558765f--UW_HPRC_HiFi_Y3/HG00639/5mc_bam/m64076_220216_013707-bc1010.5mc.hifi_reads.bam']\n"
     ]
    }
   ],
   "source": [
    "# workdir directory files and their sizes\n",
    "# UNFINISHED\n",
    "file_list_str   = file_list_byt.stdout.decode('utf-8')\n",
    "file_list       = file_list_str.split('\\n')\n",
    "file_list = [ elem for elem in file_list if elem.endswith('5mc.hifi_reads.bam')]\n",
    "file_dict_dest = dict()\n",
    "for elem in file_list:\n",
    "    fields = elem.split(' ')\n",
    "    fields = [ elem for elem in fields if elem != '']\n",
    "    file_dict_dest[os.path.basename(bampath)] = size"
   ]
  },
  {
   "cell_type": "markdown",
   "metadata": {},
   "source": [
    "## Upload 5mc files to separate directory"
   ]
  },
  {
   "cell_type": "code",
   "execution_count": null,
   "metadata": {},
   "outputs": [
    {
     "name": "stdout",
     "output_type": "stream",
     "text": [
      "HG00099 HG00099/5mc_bam/m54329U_220825_174247-bc2012.5mc.hifi_reads.bam\n"
     ]
    },
    {
     "name": "stderr",
     "output_type": "stream",
     "text": [
      "2023-03-06 02:31:48::INFO  Copied gs://fc-c2424fa0-8b70-4a0a-bd92-598d9fa71260/submissions/bc8365f7-9347-4553-90c2-ca3e2a5248bb/run_primrose/ea5af767-f05e-4e93-af37-20048563fe8c/call-primrose/shard-0/cacheCopy/glob-3ee7fdadcbb7fa3af0e19d38f27e4032/m54329U_220825_174247-bc2012.5mc.hifi_reads.bam to gs://fc-4310e737-a388-4a10-8c9e-babe06aaf0cf/submissions/5c68b972-8534-402f-9861-11c93558765f--UW_HPRC_HiFi_Y3/HG00099/5mc_bam/m54329U_220825_174247-bc2012.5mc.hifi_reads.bam\n"
     ]
    },
    {
     "name": "stdout",
     "output_type": "stream",
     "text": [
      "HG00099 HG00099/5mc_bam/m54329U_220827_143814-bc2050.5mc.hifi_reads.bam\n"
     ]
    },
    {
     "name": "stderr",
     "output_type": "stream",
     "text": [
      "2023-03-06 03:07:44::INFO  Copied gs://fc-c2424fa0-8b70-4a0a-bd92-598d9fa71260/submissions/bc8365f7-9347-4553-90c2-ca3e2a5248bb/run_primrose/de6e1261-ee82-4009-a32d-27f90cf8cbdf/call-primrose/shard-0/glob-3ee7fdadcbb7fa3af0e19d38f27e4032/m54329U_220827_143814-bc2050.5mc.hifi_reads.bam to gs://fc-4310e737-a388-4a10-8c9e-babe06aaf0cf/submissions/5c68b972-8534-402f-9861-11c93558765f--UW_HPRC_HiFi_Y3/HG00099/5mc_bam/m54329U_220827_143814-bc2050.5mc.hifi_reads.bam\n"
     ]
    },
    {
     "name": "stdout",
     "output_type": "stream",
     "text": [
      "HG00639 HG00639/5mc_bam/m54329U_211222_104516-bc1010.5mc.hifi_reads.bam\n"
     ]
    },
    {
     "name": "stderr",
     "output_type": "stream",
     "text": [
      "2023-03-06 03:32:31::INFO  Copied gs://fc-c2424fa0-8b70-4a0a-bd92-598d9fa71260/submissions/bc8365f7-9347-4553-90c2-ca3e2a5248bb/run_primrose/2a142513-5808-4862-b503-9f02e313faa0/call-primrose/shard-0/glob-3ee7fdadcbb7fa3af0e19d38f27e4032/m54329U_211222_104516-bc1010.5mc.hifi_reads.bam to gs://fc-4310e737-a388-4a10-8c9e-babe06aaf0cf/submissions/5c68b972-8534-402f-9861-11c93558765f--UW_HPRC_HiFi_Y3/HG00639/5mc_bam/m54329U_211222_104516-bc1010.5mc.hifi_reads.bam\n"
     ]
    },
    {
     "name": "stdout",
     "output_type": "stream",
     "text": [
      "HG00639 HG00639/5mc_bam/m54329U_211230_014258-bc1010.5mc.hifi_reads.bam\n"
     ]
    },
    {
     "name": "stderr",
     "output_type": "stream",
     "text": [
      "2023-03-06 03:58:56::INFO  Copied gs://fc-c2424fa0-8b70-4a0a-bd92-598d9fa71260/submissions/bc8365f7-9347-4553-90c2-ca3e2a5248bb/run_primrose/af900776-1f6e-4433-86bb-2944114ae13e/call-primrose/shard-0/glob-3ee7fdadcbb7fa3af0e19d38f27e4032/m54329U_211230_014258-bc1010.5mc.hifi_reads.bam to gs://fc-4310e737-a388-4a10-8c9e-babe06aaf0cf/submissions/5c68b972-8534-402f-9861-11c93558765f--UW_HPRC_HiFi_Y3/HG00639/5mc_bam/m54329U_211230_014258-bc1010.5mc.hifi_reads.bam\n"
     ]
    },
    {
     "name": "stdout",
     "output_type": "stream",
     "text": [
      "HG00639 HG00639/5mc_bam/m54329U_211231_123903-bc1010.5mc.hifi_reads.bam\n"
     ]
    },
    {
     "name": "stderr",
     "output_type": "stream",
     "text": [
      "2023-03-06 04:29:05::INFO  Copied gs://fc-c2424fa0-8b70-4a0a-bd92-598d9fa71260/submissions/bc8365f7-9347-4553-90c2-ca3e2a5248bb/run_primrose/4bb8bb7d-138e-47d2-9031-b94fb9742046/call-primrose/shard-0/glob-3ee7fdadcbb7fa3af0e19d38f27e4032/m54329U_211231_123903-bc1010.5mc.hifi_reads.bam to gs://fc-4310e737-a388-4a10-8c9e-babe06aaf0cf/submissions/5c68b972-8534-402f-9861-11c93558765f--UW_HPRC_HiFi_Y3/HG00639/5mc_bam/m54329U_211231_123903-bc1010.5mc.hifi_reads.bam\n"
     ]
    },
    {
     "name": "stdout",
     "output_type": "stream",
     "text": [
      "HG00639 HG00639/5mc_bam/m64076_220216_013707-bc1010.5mc.hifi_reads.bam\n"
     ]
    },
    {
     "name": "stderr",
     "output_type": "stream",
     "text": [
      "2023-03-06 04:33:41::INFO  Copied gs://fc-c2424fa0-8b70-4a0a-bd92-598d9fa71260/submissions/bc8365f7-9347-4553-90c2-ca3e2a5248bb/run_primrose/0232706e-5149-4a30-95b8-85915da244cf/call-primrose/shard-0/glob-3ee7fdadcbb7fa3af0e19d38f27e4032/m64076_220216_013707-bc1010.5mc.hifi_reads.bam to gs://fc-4310e737-a388-4a10-8c9e-babe06aaf0cf/submissions/5c68b972-8534-402f-9861-11c93558765f--UW_HPRC_HiFi_Y3/HG00639/5mc_bam/m64076_220216_013707-bc1010.5mc.hifi_reads.bam\n"
     ]
    },
    {
     "name": "stdout",
     "output_type": "stream",
     "text": [
      "HG01074 HG01074/5mc_bam/m54329U_211110_112322-bc1008.5mc.hifi_reads.bam\n"
     ]
    },
    {
     "name": "stderr",
     "output_type": "stream",
     "text": [
      "2023-03-06 04:46:08::INFO  Copied gs://fc-c2424fa0-8b70-4a0a-bd92-598d9fa71260/submissions/bc8365f7-9347-4553-90c2-ca3e2a5248bb/run_primrose/0a56babc-05d8-4973-aed5-383c3ac9a27c/call-primrose/shard-0/glob-3ee7fdadcbb7fa3af0e19d38f27e4032/m54329U_211110_112322-bc1008.5mc.hifi_reads.bam to gs://fc-4310e737-a388-4a10-8c9e-babe06aaf0cf/submissions/5c68b972-8534-402f-9861-11c93558765f--UW_HPRC_HiFi_Y3/HG01074/5mc_bam/m54329U_211110_112322-bc1008.5mc.hifi_reads.bam\n"
     ]
    },
    {
     "name": "stdout",
     "output_type": "stream",
     "text": [
      "HG01074 HG01074/5mc_bam/m54329U_211208_005551-bc1008.5mc.hifi_reads.bam\n"
     ]
    },
    {
     "name": "stderr",
     "output_type": "stream",
     "text": [
      "2023-03-06 05:13:57::INFO  Copied gs://fc-c2424fa0-8b70-4a0a-bd92-598d9fa71260/submissions/bc8365f7-9347-4553-90c2-ca3e2a5248bb/run_primrose/d4946c49-571b-4e55-ae06-739cff8ba7fd/call-primrose/shard-0/glob-3ee7fdadcbb7fa3af0e19d38f27e4032/m54329U_211208_005551-bc1008.5mc.hifi_reads.bam to gs://fc-4310e737-a388-4a10-8c9e-babe06aaf0cf/submissions/5c68b972-8534-402f-9861-11c93558765f--UW_HPRC_HiFi_Y3/HG01074/5mc_bam/m54329U_211208_005551-bc1008.5mc.hifi_reads.bam\n"
     ]
    },
    {
     "name": "stdout",
     "output_type": "stream",
     "text": [
      "HG01074 HG01074/5mc_bam/m54329U_211211_014820-bc1008.5mc.hifi_reads.bam\n"
     ]
    },
    {
     "name": "stderr",
     "output_type": "stream",
     "text": [
      "2023-03-06 05:43:32::INFO  Copied gs://fc-c2424fa0-8b70-4a0a-bd92-598d9fa71260/submissions/bc8365f7-9347-4553-90c2-ca3e2a5248bb/run_primrose/abb814c0-6127-4dfb-9dfe-4d9763fcf474/call-primrose/shard-0/glob-3ee7fdadcbb7fa3af0e19d38f27e4032/m54329U_211211_014820-bc1008.5mc.hifi_reads.bam to gs://fc-4310e737-a388-4a10-8c9e-babe06aaf0cf/submissions/5c68b972-8534-402f-9861-11c93558765f--UW_HPRC_HiFi_Y3/HG01074/5mc_bam/m54329U_211211_014820-bc1008.5mc.hifi_reads.bam\n"
     ]
    },
    {
     "name": "stdout",
     "output_type": "stream",
     "text": [
      "HG01074 HG01074/5mc_bam/m54329U_211212_111219-bc1008.5mc.hifi_reads.bam\n"
     ]
    },
    {
     "name": "stderr",
     "output_type": "stream",
     "text": [
      "2023-03-06 06:13:11::INFO  Copied gs://fc-c2424fa0-8b70-4a0a-bd92-598d9fa71260/submissions/bc8365f7-9347-4553-90c2-ca3e2a5248bb/run_primrose/4b2968d3-fca8-412d-8e64-9791778e5274/call-primrose/shard-0/glob-3ee7fdadcbb7fa3af0e19d38f27e4032/m54329U_211212_111219-bc1008.5mc.hifi_reads.bam to gs://fc-4310e737-a388-4a10-8c9e-babe06aaf0cf/submissions/5c68b972-8534-402f-9861-11c93558765f--UW_HPRC_HiFi_Y3/HG01074/5mc_bam/m54329U_211212_111219-bc1008.5mc.hifi_reads.bam\n"
     ]
    },
    {
     "name": "stdout",
     "output_type": "stream",
     "text": [
      "HG01081 HG01081/5mc_bam/m54329U_211223_214216-bc1011.5mc.hifi_reads.bam\n"
     ]
    },
    {
     "name": "stderr",
     "output_type": "stream",
     "text": [
      "2023-03-06 06:41:00::INFO  Copied gs://fc-c2424fa0-8b70-4a0a-bd92-598d9fa71260/submissions/bc8365f7-9347-4553-90c2-ca3e2a5248bb/run_primrose/9580f2f3-533d-4cad-b743-8046ad5b5472/call-primrose/shard-0/glob-3ee7fdadcbb7fa3af0e19d38f27e4032/m54329U_211223_214216-bc1011.5mc.hifi_reads.bam to gs://fc-4310e737-a388-4a10-8c9e-babe06aaf0cf/submissions/5c68b972-8534-402f-9861-11c93558765f--UW_HPRC_HiFi_Y3/HG01081/5mc_bam/m54329U_211223_214216-bc1011.5mc.hifi_reads.bam\n"
     ]
    },
    {
     "name": "stdout",
     "output_type": "stream",
     "text": [
      "HG01081 HG01081/5mc_bam/m54329U_220101_220852-bc1011.5mc.hifi_reads.bam\n"
     ]
    }
   ],
   "source": [
    "## Loop through rows of data table\n",
    "## get sample ID and output_5mc_bam, copy to destination\n",
    "for index, row in comp_df.iterrows():\n",
    "    \n",
    "           \n",
    "            file_path = row['output_5mc_bam'][0]\n",
    "            file_name = os.path.basename(file_path)\n",
    "            sample = row['sample']\n",
    "                    \n",
    "            subm_path = f\"{sample}/5mc_bam/{file_name}\"\n",
    "            print(sample, subm_path)    \n",
    "            ds.copy(file_path, submission_id, submission_name, subm_path)\n"
   ]
  },
  {
   "cell_type": "code",
   "execution_count": null,
   "metadata": {},
   "outputs": [],
   "source": [
    "\n"
   ]
  },
  {
   "cell_type": "code",
   "execution_count": null,
   "metadata": {},
   "outputs": [],
   "source": []
  }
 ],
 "metadata": {
  "kernelspec": {
   "display_name": "Python 3",
   "language": "python",
   "name": "python3"
  },
  "language_info": {
   "codemirror_mode": {
    "name": "ipython",
    "version": 3
   },
   "file_extension": ".py",
   "mimetype": "text/x-python",
   "name": "python",
   "nbconvert_exporter": "python",
   "pygments_lexer": "ipython3",
   "version": "3.7.12"
  },
  "toc": {
   "base_numbering": 1,
   "nav_menu": {},
   "number_sections": true,
   "sideBar": true,
   "skip_h1_title": false,
   "title_cell": "Table of Contents",
   "title_sidebar": "Contents",
   "toc_cell": false,
   "toc_position": {},
   "toc_section_display": true,
   "toc_window_display": false
  }
 },
 "nbformat": 4,
 "nbformat_minor": 2
}
